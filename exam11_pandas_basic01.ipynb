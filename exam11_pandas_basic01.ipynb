{
 "cells": [
  {
   "cell_type": "markdown",
   "id": "a8dcbbf1-2d35-4aa2-a816-0c0852256e24",
   "metadata": {
    "tags": []
   },
   "source": [
    "# Pandas"
   ]
  },
  {
   "cell_type": "code",
   "execution_count": 59,
   "id": "95fd7d6b",
   "metadata": {
    "tags": []
   },
   "outputs": [],
   "source": [
    "import pandas as pd"
   ]
  },
  {
   "cell_type": "markdown",
   "id": "a3466ee6-41e2-46dd-88c0-b0ff6eb0bb21",
   "metadata": {
    "tags": []
   },
   "source": [
    "# Serise (Cul이 한개인거) 데이터자료 2차원"
   ]
  },
  {
   "cell_type": "code",
   "execution_count": 60,
   "id": "e90e38e6-d674-4357-a4a9-a6a0cd0e2624",
   "metadata": {},
   "outputs": [],
   "source": [
    "dict_data = {'a':1, 'b':2, 'c':3}\n",
    "sr = pd.Series(dict_data)"
   ]
  },
  {
   "cell_type": "code",
   "execution_count": 61,
   "id": "442fcaaf-24ec-4afc-9a45-8bb332dfc625",
   "metadata": {},
   "outputs": [
    {
     "data": {
      "text/plain": [
       "a    1\n",
       "b    2\n",
       "c    3\n",
       "dtype: int64"
      ]
     },
     "execution_count": 61,
     "metadata": {},
     "output_type": "execute_result"
    }
   ],
   "source": [
    "sr"
   ]
  },
  {
   "cell_type": "markdown",
   "id": "39d55f55-a4cf-456a-823a-1a72cf8bdf01",
   "metadata": {
    "tags": []
   },
   "source": [
    "# DataFrame (Cul이 여러개인거) 데이터자료 2차원"
   ]
  },
  {
   "cell_type": "code",
   "execution_count": 62,
   "id": "abbfa375-b3a1-4a0b-a4e0-3d503032d55b",
   "metadata": {},
   "outputs": [],
   "source": [
    "dict_data = {'a':[1, 2, 3], 'b':[4, 5, 6], 'c':[7, 8, 9]}\n",
    "df = pd.DataFrame(dict_data)"
   ]
  },
  {
   "cell_type": "code",
   "execution_count": 63,
   "id": "e2435f4f-d09c-4d67-8407-d9b5c0e0731a",
   "metadata": {},
   "outputs": [
    {
     "data": {
      "text/html": [
       "<div>\n",
       "<style scoped>\n",
       "    .dataframe tbody tr th:only-of-type {\n",
       "        vertical-align: middle;\n",
       "    }\n",
       "\n",
       "    .dataframe tbody tr th {\n",
       "        vertical-align: top;\n",
       "    }\n",
       "\n",
       "    .dataframe thead th {\n",
       "        text-align: right;\n",
       "    }\n",
       "</style>\n",
       "<table border=\"1\" class=\"dataframe\">\n",
       "  <thead>\n",
       "    <tr style=\"text-align: right;\">\n",
       "      <th></th>\n",
       "      <th>a</th>\n",
       "      <th>b</th>\n",
       "      <th>c</th>\n",
       "    </tr>\n",
       "  </thead>\n",
       "  <tbody>\n",
       "    <tr>\n",
       "      <th>0</th>\n",
       "      <td>1</td>\n",
       "      <td>4</td>\n",
       "      <td>7</td>\n",
       "    </tr>\n",
       "    <tr>\n",
       "      <th>1</th>\n",
       "      <td>2</td>\n",
       "      <td>5</td>\n",
       "      <td>8</td>\n",
       "    </tr>\n",
       "    <tr>\n",
       "      <th>2</th>\n",
       "      <td>3</td>\n",
       "      <td>6</td>\n",
       "      <td>9</td>\n",
       "    </tr>\n",
       "  </tbody>\n",
       "</table>\n",
       "</div>"
      ],
      "text/plain": [
       "   a  b  c\n",
       "0  1  4  7\n",
       "1  2  5  8\n",
       "2  3  6  9"
      ]
     },
     "execution_count": 63,
     "metadata": {},
     "output_type": "execute_result"
    }
   ],
   "source": [
    "df"
   ]
  },
  {
   "cell_type": "code",
   "execution_count": 64,
   "id": "33b5f8d8-ca1b-4c9f-9aa7-8632953350fc",
   "metadata": {},
   "outputs": [],
   "source": [
    "list_data = ['2022-11-03', 3.14, 'ABC', 100, True]\n",
    "sr = pd.Series(list_data)"
   ]
  },
  {
   "cell_type": "code",
   "execution_count": 65,
   "id": "6105c937-4eee-4369-9438-b6e811e03c83",
   "metadata": {},
   "outputs": [
    {
     "data": {
      "text/plain": [
       "0    2022-11-03\n",
       "1          3.14\n",
       "2           ABC\n",
       "3           100\n",
       "4          True\n",
       "dtype: object"
      ]
     },
     "execution_count": 65,
     "metadata": {},
     "output_type": "execute_result"
    }
   ],
   "source": [
    "sr"
   ]
  },
  {
   "cell_type": "code",
   "execution_count": 66,
   "id": "19f1cca1-7f49-4ead-95f5-fb95e700927c",
   "metadata": {},
   "outputs": [
    {
     "data": {
      "text/plain": [
       "RangeIndex(start=0, stop=5, step=1)"
      ]
     },
     "execution_count": 66,
     "metadata": {},
     "output_type": "execute_result"
    }
   ],
   "source": [
    "sr.index"
   ]
  },
  {
   "cell_type": "code",
   "execution_count": 67,
   "id": "a83cd1fc-6211-46f4-b05d-c9a440c70c17",
   "metadata": {},
   "outputs": [
    {
     "data": {
      "text/plain": [
       "[0, 1, 2, 3, 4]"
      ]
     },
     "execution_count": 67,
     "metadata": {},
     "output_type": "execute_result"
    }
   ],
   "source": [
    "list(sr.index)"
   ]
  },
  {
   "cell_type": "code",
   "execution_count": 68,
   "id": "d6205ed2-bd94-4f7b-ab28-a24e9e4dc910",
   "metadata": {},
   "outputs": [
    {
     "data": {
      "text/plain": [
       "array(['2022-11-03', 3.14, 'ABC', 100, True], dtype=object)"
      ]
     },
     "execution_count": 68,
     "metadata": {},
     "output_type": "execute_result"
    }
   ],
   "source": [
    "sr.values"
   ]
  },
  {
   "cell_type": "code",
   "execution_count": 69,
   "id": "7151c30d-7a2f-4589-95bb-14c751902ff4",
   "metadata": {},
   "outputs": [],
   "source": [
    "tup_data = ['2022-11-03', 3.14, 'ABC', 100, True]\n",
    "sr = pd.Series(tup_data, index=['가입일', 'PI', '회사명', '몸무게', '비만여부'])"
   ]
  },
  {
   "cell_type": "code",
   "execution_count": 70,
   "id": "eec1f247-a2db-42e7-b754-ab49f5c11f7d",
   "metadata": {},
   "outputs": [
    {
     "data": {
      "text/plain": [
       "가입일     2022-11-03\n",
       "PI            3.14\n",
       "회사명            ABC\n",
       "몸무게            100\n",
       "비만여부          True\n",
       "dtype: object"
      ]
     },
     "execution_count": 70,
     "metadata": {},
     "output_type": "execute_result"
    }
   ],
   "source": [
    "sr"
   ]
  },
  {
   "cell_type": "code",
   "execution_count": 71,
   "id": "3dca4a1f-4acc-458a-ac2c-80800d7a2bef",
   "metadata": {},
   "outputs": [
    {
     "data": {
      "text/plain": [
       "100"
      ]
     },
     "execution_count": 71,
     "metadata": {},
     "output_type": "execute_result"
    }
   ],
   "source": [
    "sr['몸무게']"
   ]
  },
  {
   "cell_type": "code",
   "execution_count": 72,
   "id": "cb55c603-e34f-4b5b-9760-f9660438bad1",
   "metadata": {},
   "outputs": [
    {
     "data": {
      "text/plain": [
       "PI     3.14\n",
       "회사명     ABC\n",
       "dtype: object"
      ]
     },
     "execution_count": 72,
     "metadata": {},
     "output_type": "execute_result"
    }
   ],
   "source": [
    "sr[1:3]"
   ]
  },
  {
   "cell_type": "code",
   "execution_count": 73,
   "id": "fcc51bfe-c0ca-42a4-8d1e-d2dbcd244a3d",
   "metadata": {},
   "outputs": [
    {
     "data": {
      "text/plain": [
       "가입일    2022-11-03\n",
       "PI           3.14\n",
       "회사명           ABC\n",
       "몸무게           100\n",
       "dtype: object"
      ]
     },
     "execution_count": 73,
     "metadata": {},
     "output_type": "execute_result"
    }
   ],
   "source": [
    "sr['가입일':'몸무게']"
   ]
  },
  {
   "cell_type": "code",
   "execution_count": 74,
   "id": "547073de-eff4-4eba-88a2-f584da1f7ea8",
   "metadata": {},
   "outputs": [],
   "source": [
    "df = pd.DataFrame([[15, '남', '영훈중'], [17, '여', '성암중']], index=['서준','도연'], columns=['나이','성별','학교'])"
   ]
  },
  {
   "cell_type": "code",
   "execution_count": 75,
   "id": "8dd8d54a-47bd-4cbf-829c-295cdc2f8889",
   "metadata": {},
   "outputs": [
    {
     "data": {
      "text/html": [
       "<div>\n",
       "<style scoped>\n",
       "    .dataframe tbody tr th:only-of-type {\n",
       "        vertical-align: middle;\n",
       "    }\n",
       "\n",
       "    .dataframe tbody tr th {\n",
       "        vertical-align: top;\n",
       "    }\n",
       "\n",
       "    .dataframe thead th {\n",
       "        text-align: right;\n",
       "    }\n",
       "</style>\n",
       "<table border=\"1\" class=\"dataframe\">\n",
       "  <thead>\n",
       "    <tr style=\"text-align: right;\">\n",
       "      <th></th>\n",
       "      <th>나이</th>\n",
       "      <th>성별</th>\n",
       "      <th>학교</th>\n",
       "    </tr>\n",
       "  </thead>\n",
       "  <tbody>\n",
       "    <tr>\n",
       "      <th>서준</th>\n",
       "      <td>15</td>\n",
       "      <td>남</td>\n",
       "      <td>영훈중</td>\n",
       "    </tr>\n",
       "    <tr>\n",
       "      <th>도연</th>\n",
       "      <td>17</td>\n",
       "      <td>여</td>\n",
       "      <td>성암중</td>\n",
       "    </tr>\n",
       "  </tbody>\n",
       "</table>\n",
       "</div>"
      ],
      "text/plain": [
       "    나이 성별   학교\n",
       "서준  15  남  영훈중\n",
       "도연  17  여  성암중"
      ]
     },
     "execution_count": 75,
     "metadata": {},
     "output_type": "execute_result"
    }
   ],
   "source": [
    "df"
   ]
  },
  {
   "cell_type": "code",
   "execution_count": 76,
   "id": "782c7ce9-8cbc-4cf6-a150-534caf9c0495",
   "metadata": {},
   "outputs": [
    {
     "data": {
      "text/plain": [
       "Index(['서준', '도연'], dtype='object')"
      ]
     },
     "execution_count": 76,
     "metadata": {},
     "output_type": "execute_result"
    }
   ],
   "source": [
    "df.index"
   ]
  },
  {
   "cell_type": "code",
   "execution_count": 77,
   "id": "e5e32c75-b040-4ffd-9c69-6fa8696fbeab",
   "metadata": {},
   "outputs": [
    {
     "data": {
      "text/plain": [
       "Index(['나이', '성별', '학교'], dtype='object')"
      ]
     },
     "execution_count": 77,
     "metadata": {},
     "output_type": "execute_result"
    }
   ],
   "source": [
    "df.columns"
   ]
  },
  {
   "cell_type": "code",
   "execution_count": 78,
   "id": "cde65892-bd67-4126-913b-c9b5cf4836d8",
   "metadata": {},
   "outputs": [],
   "source": [
    "df.index = ['학생1', '학생2']\n",
    "df.columns = ['연령', '남녀', '소속']"
   ]
  },
  {
   "cell_type": "code",
   "execution_count": 79,
   "id": "2dcff10a-75c7-4652-9a09-9c2d21b7a6b9",
   "metadata": {},
   "outputs": [
    {
     "data": {
      "text/html": [
       "<div>\n",
       "<style scoped>\n",
       "    .dataframe tbody tr th:only-of-type {\n",
       "        vertical-align: middle;\n",
       "    }\n",
       "\n",
       "    .dataframe tbody tr th {\n",
       "        vertical-align: top;\n",
       "    }\n",
       "\n",
       "    .dataframe thead th {\n",
       "        text-align: right;\n",
       "    }\n",
       "</style>\n",
       "<table border=\"1\" class=\"dataframe\">\n",
       "  <thead>\n",
       "    <tr style=\"text-align: right;\">\n",
       "      <th></th>\n",
       "      <th>연령</th>\n",
       "      <th>남녀</th>\n",
       "      <th>소속</th>\n",
       "    </tr>\n",
       "  </thead>\n",
       "  <tbody>\n",
       "    <tr>\n",
       "      <th>학생1</th>\n",
       "      <td>15</td>\n",
       "      <td>남</td>\n",
       "      <td>영훈중</td>\n",
       "    </tr>\n",
       "    <tr>\n",
       "      <th>학생2</th>\n",
       "      <td>17</td>\n",
       "      <td>여</td>\n",
       "      <td>성암중</td>\n",
       "    </tr>\n",
       "  </tbody>\n",
       "</table>\n",
       "</div>"
      ],
      "text/plain": [
       "     연령 남녀   소속\n",
       "학생1  15  남  영훈중\n",
       "학생2  17  여  성암중"
      ]
     },
     "execution_count": 79,
     "metadata": {},
     "output_type": "execute_result"
    }
   ],
   "source": [
    "df"
   ]
  },
  {
   "cell_type": "code",
   "execution_count": 80,
   "id": "174c7895-1e88-412c-8c48-bf3f89f24790",
   "metadata": {},
   "outputs": [],
   "source": [
    "df1 = df.rename(columns={'연령':'나이'}, inplace=False)"
   ]
  },
  {
   "cell_type": "code",
   "execution_count": 81,
   "id": "b85058d8-5e0a-4c85-b312-f3163025e451",
   "metadata": {},
   "outputs": [
    {
     "data": {
      "text/html": [
       "<div>\n",
       "<style scoped>\n",
       "    .dataframe tbody tr th:only-of-type {\n",
       "        vertical-align: middle;\n",
       "    }\n",
       "\n",
       "    .dataframe tbody tr th {\n",
       "        vertical-align: top;\n",
       "    }\n",
       "\n",
       "    .dataframe thead th {\n",
       "        text-align: right;\n",
       "    }\n",
       "</style>\n",
       "<table border=\"1\" class=\"dataframe\">\n",
       "  <thead>\n",
       "    <tr style=\"text-align: right;\">\n",
       "      <th></th>\n",
       "      <th>나이</th>\n",
       "      <th>남녀</th>\n",
       "      <th>소속</th>\n",
       "    </tr>\n",
       "  </thead>\n",
       "  <tbody>\n",
       "    <tr>\n",
       "      <th>학생1</th>\n",
       "      <td>15</td>\n",
       "      <td>남</td>\n",
       "      <td>영훈중</td>\n",
       "    </tr>\n",
       "    <tr>\n",
       "      <th>학생2</th>\n",
       "      <td>17</td>\n",
       "      <td>여</td>\n",
       "      <td>성암중</td>\n",
       "    </tr>\n",
       "  </tbody>\n",
       "</table>\n",
       "</div>"
      ],
      "text/plain": [
       "     나이 남녀   소속\n",
       "학생1  15  남  영훈중\n",
       "학생2  17  여  성암중"
      ]
     },
     "execution_count": 81,
     "metadata": {},
     "output_type": "execute_result"
    }
   ],
   "source": [
    "df1"
   ]
  },
  {
   "cell_type": "code",
   "execution_count": 82,
   "id": "6d955b01-a912-4df9-9f33-24d02b2a8daf",
   "metadata": {},
   "outputs": [],
   "source": [
    "df1 = df.rename(columns={'연령':'나이'}, inplace=True)"
   ]
  },
  {
   "cell_type": "code",
   "execution_count": 83,
   "id": "ab8a80cc-fee6-424b-ad60-5842da1e0202",
   "metadata": {},
   "outputs": [
    {
     "name": "stdout",
     "output_type": "stream",
     "text": [
      "None\n"
     ]
    }
   ],
   "source": [
    "print(df1)"
   ]
  },
  {
   "cell_type": "code",
   "execution_count": 84,
   "id": "a3fb1365-b65f-405d-9cc3-9cb01775c0f9",
   "metadata": {},
   "outputs": [
    {
     "data": {
      "text/html": [
       "<div>\n",
       "<style scoped>\n",
       "    .dataframe tbody tr th:only-of-type {\n",
       "        vertical-align: middle;\n",
       "    }\n",
       "\n",
       "    .dataframe tbody tr th {\n",
       "        vertical-align: top;\n",
       "    }\n",
       "\n",
       "    .dataframe thead th {\n",
       "        text-align: right;\n",
       "    }\n",
       "</style>\n",
       "<table border=\"1\" class=\"dataframe\">\n",
       "  <thead>\n",
       "    <tr style=\"text-align: right;\">\n",
       "      <th></th>\n",
       "      <th>나이</th>\n",
       "      <th>남녀</th>\n",
       "      <th>소속</th>\n",
       "    </tr>\n",
       "  </thead>\n",
       "  <tbody>\n",
       "    <tr>\n",
       "      <th>학생1</th>\n",
       "      <td>15</td>\n",
       "      <td>남</td>\n",
       "      <td>영훈중</td>\n",
       "    </tr>\n",
       "    <tr>\n",
       "      <th>학생2</th>\n",
       "      <td>17</td>\n",
       "      <td>여</td>\n",
       "      <td>성암중</td>\n",
       "    </tr>\n",
       "  </tbody>\n",
       "</table>\n",
       "</div>"
      ],
      "text/plain": [
       "     나이 남녀   소속\n",
       "학생1  15  남  영훈중\n",
       "학생2  17  여  성암중"
      ]
     },
     "execution_count": 84,
     "metadata": {},
     "output_type": "execute_result"
    }
   ],
   "source": [
    "df"
   ]
  },
  {
   "cell_type": "code",
   "execution_count": 85,
   "id": "f714d907-e3a8-4063-abcb-0bf52a8fed33",
   "metadata": {},
   "outputs": [],
   "source": [
    "df.rename(index={'학생2':'도연', '학생1':'서준'}, inplace=True)"
   ]
  },
  {
   "cell_type": "code",
   "execution_count": 86,
   "id": "5328ee2c-6508-4090-80c6-20f528e01bdb",
   "metadata": {},
   "outputs": [
    {
     "data": {
      "text/html": [
       "<div>\n",
       "<style scoped>\n",
       "    .dataframe tbody tr th:only-of-type {\n",
       "        vertical-align: middle;\n",
       "    }\n",
       "\n",
       "    .dataframe tbody tr th {\n",
       "        vertical-align: top;\n",
       "    }\n",
       "\n",
       "    .dataframe thead th {\n",
       "        text-align: right;\n",
       "    }\n",
       "</style>\n",
       "<table border=\"1\" class=\"dataframe\">\n",
       "  <thead>\n",
       "    <tr style=\"text-align: right;\">\n",
       "      <th></th>\n",
       "      <th>나이</th>\n",
       "      <th>남녀</th>\n",
       "      <th>소속</th>\n",
       "    </tr>\n",
       "  </thead>\n",
       "  <tbody>\n",
       "    <tr>\n",
       "      <th>서준</th>\n",
       "      <td>15</td>\n",
       "      <td>남</td>\n",
       "      <td>영훈중</td>\n",
       "    </tr>\n",
       "    <tr>\n",
       "      <th>도연</th>\n",
       "      <td>17</td>\n",
       "      <td>여</td>\n",
       "      <td>성암중</td>\n",
       "    </tr>\n",
       "  </tbody>\n",
       "</table>\n",
       "</div>"
      ],
      "text/plain": [
       "    나이 남녀   소속\n",
       "서준  15  남  영훈중\n",
       "도연  17  여  성암중"
      ]
     },
     "execution_count": 86,
     "metadata": {},
     "output_type": "execute_result"
    }
   ],
   "source": [
    "df"
   ]
  },
  {
   "cell_type": "code",
   "execution_count": 87,
   "id": "0a4eb3ff-0c41-4130-ab69-0c75742938b2",
   "metadata": {},
   "outputs": [
    {
     "data": {
      "text/plain": [
       "나이     15\n",
       "남녀      남\n",
       "소속    영훈중\n",
       "Name: 서준, dtype: object"
      ]
     },
     "execution_count": 87,
     "metadata": {},
     "output_type": "execute_result"
    }
   ],
   "source": [
    "df.loc['서준',:]  #서준에 대한 정보를 출력"
   ]
  },
  {
   "cell_type": "code",
   "execution_count": 88,
   "id": "89030995-3a3c-47dc-b569-ee584a3063a3",
   "metadata": {},
   "outputs": [
    {
     "data": {
      "text/plain": [
       "서준    15\n",
       "도연    17\n",
       "Name: 나이, dtype: int64"
      ]
     },
     "execution_count": 88,
     "metadata": {},
     "output_type": "execute_result"
    }
   ],
   "source": [
    "df['나이'] #전체 '나이'에 대한 값 출력"
   ]
  },
  {
   "cell_type": "code",
   "execution_count": 89,
   "id": "cb781a18-ed52-4a11-9f07-352d3f9e8998",
   "metadata": {},
   "outputs": [
    {
     "data": {
      "text/plain": [
       "서준    15\n",
       "도연    17\n",
       "Name: 나이, dtype: int64"
      ]
     },
     "execution_count": 89,
     "metadata": {},
     "output_type": "execute_result"
    }
   ],
   "source": [
    "df1 = df['나이'] \n",
    "df1"
   ]
  },
  {
   "cell_type": "code",
   "execution_count": 90,
   "id": "32a02ea7-3238-48f3-9e3c-7f6c548ab80d",
   "metadata": {},
   "outputs": [
    {
     "data": {
      "text/plain": [
       "pandas.core.series.Series"
      ]
     },
     "execution_count": 90,
     "metadata": {},
     "output_type": "execute_result"
    }
   ],
   "source": [
    "type(df1)"
   ]
  },
  {
   "cell_type": "code",
   "execution_count": 98,
   "id": "5352bbde-8a1f-4a99-9db6-809875f76fea",
   "metadata": {},
   "outputs": [
    {
     "data": {
      "text/html": [
       "<div>\n",
       "<style scoped>\n",
       "    .dataframe tbody tr th:only-of-type {\n",
       "        vertical-align: middle;\n",
       "    }\n",
       "\n",
       "    .dataframe tbody tr th {\n",
       "        vertical-align: top;\n",
       "    }\n",
       "\n",
       "    .dataframe thead th {\n",
       "        text-align: right;\n",
       "    }\n",
       "</style>\n",
       "<table border=\"1\" class=\"dataframe\">\n",
       "  <thead>\n",
       "    <tr style=\"text-align: right;\">\n",
       "      <th></th>\n",
       "      <th>나이</th>\n",
       "      <th>남녀</th>\n",
       "    </tr>\n",
       "  </thead>\n",
       "  <tbody>\n",
       "    <tr>\n",
       "      <th>서준</th>\n",
       "      <td>15</td>\n",
       "      <td>남</td>\n",
       "    </tr>\n",
       "    <tr>\n",
       "      <th>도연</th>\n",
       "      <td>17</td>\n",
       "      <td>여</td>\n",
       "    </tr>\n",
       "  </tbody>\n",
       "</table>\n",
       "</div>"
      ],
      "text/plain": [
       "    나이 남녀\n",
       "서준  15  남\n",
       "도연  17  여"
      ]
     },
     "execution_count": 98,
     "metadata": {},
     "output_type": "execute_result"
    }
   ],
   "source": [
    "df1 = df[['나이', '남녀']]\n",
    "df1"
   ]
  },
  {
   "cell_type": "code",
   "execution_count": 93,
   "id": "32daf1b8-bfc1-463f-a9a0-295af5525491",
   "metadata": {},
   "outputs": [
    {
     "data": {
      "text/html": [
       "<div>\n",
       "<style scoped>\n",
       "    .dataframe tbody tr th:only-of-type {\n",
       "        vertical-align: middle;\n",
       "    }\n",
       "\n",
       "    .dataframe tbody tr th {\n",
       "        vertical-align: top;\n",
       "    }\n",
       "\n",
       "    .dataframe thead th {\n",
       "        text-align: right;\n",
       "    }\n",
       "</style>\n",
       "<table border=\"1\" class=\"dataframe\">\n",
       "  <thead>\n",
       "    <tr style=\"text-align: right;\">\n",
       "      <th></th>\n",
       "      <th>나이</th>\n",
       "    </tr>\n",
       "  </thead>\n",
       "  <tbody>\n",
       "    <tr>\n",
       "      <th>서준</th>\n",
       "      <td>15</td>\n",
       "    </tr>\n",
       "    <tr>\n",
       "      <th>도연</th>\n",
       "      <td>17</td>\n",
       "    </tr>\n",
       "  </tbody>\n",
       "</table>\n",
       "</div>"
      ],
      "text/plain": [
       "    나이\n",
       "서준  15\n",
       "도연  17"
      ]
     },
     "execution_count": 93,
     "metadata": {},
     "output_type": "execute_result"
    }
   ],
   "source": [
    "df1 = df[['나이']]\n",
    "df1"
   ]
  },
  {
   "cell_type": "code",
   "execution_count": 97,
   "id": "f2c9d74b-2a14-4105-aa2e-b5ba97b5f3b6",
   "metadata": {},
   "outputs": [
    {
     "data": {
      "text/html": [
       "<div>\n",
       "<style scoped>\n",
       "    .dataframe tbody tr th:only-of-type {\n",
       "        vertical-align: middle;\n",
       "    }\n",
       "\n",
       "    .dataframe tbody tr th {\n",
       "        vertical-align: top;\n",
       "    }\n",
       "\n",
       "    .dataframe thead th {\n",
       "        text-align: right;\n",
       "    }\n",
       "</style>\n",
       "<table border=\"1\" class=\"dataframe\">\n",
       "  <thead>\n",
       "    <tr style=\"text-align: right;\">\n",
       "      <th></th>\n",
       "      <th>나이</th>\n",
       "      <th>남녀</th>\n",
       "      <th>소속</th>\n",
       "    </tr>\n",
       "  </thead>\n",
       "  <tbody>\n",
       "    <tr>\n",
       "      <th>서준</th>\n",
       "      <td>15</td>\n",
       "      <td>남</td>\n",
       "      <td>영훈중</td>\n",
       "    </tr>\n",
       "    <tr>\n",
       "      <th>도연</th>\n",
       "      <td>17</td>\n",
       "      <td>여</td>\n",
       "      <td>성암중</td>\n",
       "    </tr>\n",
       "  </tbody>\n",
       "</table>\n",
       "</div>"
      ],
      "text/plain": [
       "    나이 남녀   소속\n",
       "서준  15  남  영훈중\n",
       "도연  17  여  성암중"
      ]
     },
     "execution_count": 97,
     "metadata": {},
     "output_type": "execute_result"
    }
   ],
   "source": [
    "df.loc[['서준', '도연']]"
   ]
  },
  {
   "cell_type": "code",
   "execution_count": 99,
   "id": "8d7cc317-e911-4c44-afba-2f1d700f3c30",
   "metadata": {},
   "outputs": [
    {
     "data": {
      "text/html": [
       "<div>\n",
       "<style scoped>\n",
       "    .dataframe tbody tr th:only-of-type {\n",
       "        vertical-align: middle;\n",
       "    }\n",
       "\n",
       "    .dataframe tbody tr th {\n",
       "        vertical-align: top;\n",
       "    }\n",
       "\n",
       "    .dataframe thead th {\n",
       "        text-align: right;\n",
       "    }\n",
       "</style>\n",
       "<table border=\"1\" class=\"dataframe\">\n",
       "  <thead>\n",
       "    <tr style=\"text-align: right;\">\n",
       "      <th></th>\n",
       "      <th>나이</th>\n",
       "      <th>남녀</th>\n",
       "      <th>소속</th>\n",
       "    </tr>\n",
       "  </thead>\n",
       "  <tbody>\n",
       "    <tr>\n",
       "      <th>서준</th>\n",
       "      <td>15</td>\n",
       "      <td>남</td>\n",
       "      <td>영훈중</td>\n",
       "    </tr>\n",
       "  </tbody>\n",
       "</table>\n",
       "</div>"
      ],
      "text/plain": [
       "    나이 남녀   소속\n",
       "서준  15  남  영훈중"
      ]
     },
     "execution_count": 99,
     "metadata": {},
     "output_type": "execute_result"
    }
   ],
   "source": [
    "df.iloc[[0]]  #인덱스 0번 -> 첫번째 행에 대한 정보 출력"
   ]
  },
  {
   "cell_type": "code",
   "execution_count": 101,
   "id": "ae9c764e-9e90-46e1-a8dd-6f2b8a7b99b7",
   "metadata": {},
   "outputs": [
    {
     "data": {
      "text/plain": [
       "'영훈중'"
      ]
     },
     "execution_count": 101,
     "metadata": {},
     "output_type": "execute_result"
    }
   ],
   "source": [
    "df.iloc[0, 2] #iolc 첫번째 행의 세번째 열에 대한 정보 출력 / 행열은 행렬로만 입력해야한다"
   ]
  },
  {
   "cell_type": "code",
   "execution_count": 103,
   "id": "5cec759f-a71f-4dd2-b929-e70412d47c58",
   "metadata": {},
   "outputs": [
    {
     "data": {
      "text/plain": [
       "'영훈중'"
      ]
     },
     "execution_count": 103,
     "metadata": {},
     "output_type": "execute_result"
    }
   ],
   "source": [
    "df.loc['서준', '소속'] #loc은 해당 정보를 직접 대입해서 출력할 때 쓰인다"
   ]
  },
  {
   "cell_type": "code",
   "execution_count": 104,
   "id": "6d9d268d-d210-45e6-9a1a-5eb5e9b8488b",
   "metadata": {},
   "outputs": [],
   "source": [
    "dict_data = {'a':[1,2,3], 'b':[4,5,6], 'c':[7,8,9]}\n",
    "df = pd.DataFrame(dict_data)"
   ]
  },
  {
   "cell_type": "code",
   "execution_count": 105,
   "id": "bf60ea4c-b3c3-48ca-a09a-6e1b492c3d5f",
   "metadata": {},
   "outputs": [
    {
     "data": {
      "text/html": [
       "<div>\n",
       "<style scoped>\n",
       "    .dataframe tbody tr th:only-of-type {\n",
       "        vertical-align: middle;\n",
       "    }\n",
       "\n",
       "    .dataframe tbody tr th {\n",
       "        vertical-align: top;\n",
       "    }\n",
       "\n",
       "    .dataframe thead th {\n",
       "        text-align: right;\n",
       "    }\n",
       "</style>\n",
       "<table border=\"1\" class=\"dataframe\">\n",
       "  <thead>\n",
       "    <tr style=\"text-align: right;\">\n",
       "      <th></th>\n",
       "      <th>a</th>\n",
       "      <th>b</th>\n",
       "      <th>c</th>\n",
       "    </tr>\n",
       "  </thead>\n",
       "  <tbody>\n",
       "    <tr>\n",
       "      <th>0</th>\n",
       "      <td>1</td>\n",
       "      <td>4</td>\n",
       "      <td>7</td>\n",
       "    </tr>\n",
       "    <tr>\n",
       "      <th>1</th>\n",
       "      <td>2</td>\n",
       "      <td>5</td>\n",
       "      <td>8</td>\n",
       "    </tr>\n",
       "    <tr>\n",
       "      <th>2</th>\n",
       "      <td>3</td>\n",
       "      <td>6</td>\n",
       "      <td>9</td>\n",
       "    </tr>\n",
       "  </tbody>\n",
       "</table>\n",
       "</div>"
      ],
      "text/plain": [
       "   a  b  c\n",
       "0  1  4  7\n",
       "1  2  5  8\n",
       "2  3  6  9"
      ]
     },
     "execution_count": 105,
     "metadata": {},
     "output_type": "execute_result"
    }
   ],
   "source": [
    "df"
   ]
  },
  {
   "cell_type": "code",
   "execution_count": 106,
   "id": "20a23a6e-b562-41eb-99ad-f78b1376bcde",
   "metadata": {},
   "outputs": [
    {
     "data": {
      "text/plain": [
       "1"
      ]
     },
     "execution_count": 106,
     "metadata": {},
     "output_type": "execute_result"
    }
   ],
   "source": [
    "df.loc[0, 'a']"
   ]
  },
  {
   "cell_type": "code",
   "execution_count": 107,
   "id": "da60bfad-be06-497c-bbbe-91befea68b26",
   "metadata": {},
   "outputs": [
    {
     "data": {
      "text/plain": [
       "RangeIndex(start=0, stop=3, step=1)"
      ]
     },
     "execution_count": 107,
     "metadata": {},
     "output_type": "execute_result"
    }
   ],
   "source": [
    "df.index"
   ]
  },
  {
   "cell_type": "code",
   "execution_count": 108,
   "id": "d29ecd57-a2a5-4a1b-972a-d870bae80ac6",
   "metadata": {},
   "outputs": [
    {
     "data": {
      "text/html": [
       "<div>\n",
       "<style scoped>\n",
       "    .dataframe tbody tr th:only-of-type {\n",
       "        vertical-align: middle;\n",
       "    }\n",
       "\n",
       "    .dataframe tbody tr th {\n",
       "        vertical-align: top;\n",
       "    }\n",
       "\n",
       "    .dataframe thead th {\n",
       "        text-align: right;\n",
       "    }\n",
       "</style>\n",
       "<table border=\"1\" class=\"dataframe\">\n",
       "  <thead>\n",
       "    <tr style=\"text-align: right;\">\n",
       "      <th></th>\n",
       "      <th>나이</th>\n",
       "      <th>성별</th>\n",
       "      <th>학교</th>\n",
       "    </tr>\n",
       "  </thead>\n",
       "  <tbody>\n",
       "    <tr>\n",
       "      <th>서준</th>\n",
       "      <td>15</td>\n",
       "      <td>남</td>\n",
       "      <td>영훈중</td>\n",
       "    </tr>\n",
       "    <tr>\n",
       "      <th>도연</th>\n",
       "      <td>17</td>\n",
       "      <td>여</td>\n",
       "      <td>성암중</td>\n",
       "    </tr>\n",
       "  </tbody>\n",
       "</table>\n",
       "</div>"
      ],
      "text/plain": [
       "    나이 성별   학교\n",
       "서준  15  남  영훈중\n",
       "도연  17  여  성암중"
      ]
     },
     "execution_count": 108,
     "metadata": {},
     "output_type": "execute_result"
    }
   ],
   "source": [
    "df = pd.DataFrame([[15, '남', '영훈중'], [17, '여', '성암중']], index=['서준','도연'], columns=['나이','성별','학교'])\n",
    "df"
   ]
  },
  {
   "cell_type": "code",
   "execution_count": 109,
   "id": "983763df-f8e4-4557-9130-4030c92c7a34",
   "metadata": {},
   "outputs": [
    {
     "data": {
      "text/plain": [
       "서준    15\n",
       "도연    17\n",
       "Name: 나이, dtype: int64"
      ]
     },
     "execution_count": 109,
     "metadata": {},
     "output_type": "execute_result"
    }
   ],
   "source": [
    "df.iloc[:, 0] # :은 전체를 의미 / 첫번째 열 모두 출력"
   ]
  },
  {
   "cell_type": "code",
   "execution_count": 110,
   "id": "95a9a920-560d-4e04-9425-34b0bcdb67c0",
   "metadata": {},
   "outputs": [
    {
     "data": {
      "text/plain": [
       "15"
      ]
     },
     "execution_count": 110,
     "metadata": {},
     "output_type": "execute_result"
    }
   ],
   "source": [
    "df.나이[0] #나이에 대한 정보 중에 첫번째 값 출력"
   ]
  },
  {
   "cell_type": "code",
   "execution_count": 111,
   "id": "3d6ad504-c3be-4e82-bdb7-1904357d229b",
   "metadata": {},
   "outputs": [
    {
     "data": {
      "text/plain": [
       "15"
      ]
     },
     "execution_count": 111,
     "metadata": {},
     "output_type": "execute_result"
    }
   ],
   "source": [
    "df['나이'][0] #나이에 대한 정보 중에 첫번째 값 출력"
   ]
  },
  {
   "cell_type": "code",
   "execution_count": 112,
   "id": "5c517457-5770-4152-8071-34f5326845bc",
   "metadata": {},
   "outputs": [],
   "source": [
    "df.loc['서준', '나이'] = 22 #서준의 나이를 22로 변경"
   ]
  },
  {
   "cell_type": "code",
   "execution_count": 113,
   "id": "3cd2ec1a-ed82-4a83-8238-46894c5777dd",
   "metadata": {},
   "outputs": [
    {
     "data": {
      "text/html": [
       "<div>\n",
       "<style scoped>\n",
       "    .dataframe tbody tr th:only-of-type {\n",
       "        vertical-align: middle;\n",
       "    }\n",
       "\n",
       "    .dataframe tbody tr th {\n",
       "        vertical-align: top;\n",
       "    }\n",
       "\n",
       "    .dataframe thead th {\n",
       "        text-align: right;\n",
       "    }\n",
       "</style>\n",
       "<table border=\"1\" class=\"dataframe\">\n",
       "  <thead>\n",
       "    <tr style=\"text-align: right;\">\n",
       "      <th></th>\n",
       "      <th>나이</th>\n",
       "      <th>성별</th>\n",
       "      <th>학교</th>\n",
       "    </tr>\n",
       "  </thead>\n",
       "  <tbody>\n",
       "    <tr>\n",
       "      <th>서준</th>\n",
       "      <td>22</td>\n",
       "      <td>남</td>\n",
       "      <td>영훈중</td>\n",
       "    </tr>\n",
       "    <tr>\n",
       "      <th>도연</th>\n",
       "      <td>17</td>\n",
       "      <td>여</td>\n",
       "      <td>성암중</td>\n",
       "    </tr>\n",
       "  </tbody>\n",
       "</table>\n",
       "</div>"
      ],
      "text/plain": [
       "    나이 성별   학교\n",
       "서준  22  남  영훈중\n",
       "도연  17  여  성암중"
      ]
     },
     "execution_count": 113,
     "metadata": {},
     "output_type": "execute_result"
    }
   ],
   "source": [
    "df"
   ]
  },
  {
   "cell_type": "code",
   "execution_count": 114,
   "id": "1e67182b-3b85-4737-ab34-c5947c1eaf28",
   "metadata": {},
   "outputs": [],
   "source": [
    "df.loc['서준'] = [18, '남', '보성중'] #서준의 전체 값을 변경 "
   ]
  },
  {
   "cell_type": "code",
   "execution_count": 115,
   "id": "02554cfd-5f2b-4fbf-a9f8-c17698bf4884",
   "metadata": {},
   "outputs": [
    {
     "data": {
      "text/html": [
       "<div>\n",
       "<style scoped>\n",
       "    .dataframe tbody tr th:only-of-type {\n",
       "        vertical-align: middle;\n",
       "    }\n",
       "\n",
       "    .dataframe tbody tr th {\n",
       "        vertical-align: top;\n",
       "    }\n",
       "\n",
       "    .dataframe thead th {\n",
       "        text-align: right;\n",
       "    }\n",
       "</style>\n",
       "<table border=\"1\" class=\"dataframe\">\n",
       "  <thead>\n",
       "    <tr style=\"text-align: right;\">\n",
       "      <th></th>\n",
       "      <th>나이</th>\n",
       "      <th>성별</th>\n",
       "      <th>학교</th>\n",
       "    </tr>\n",
       "  </thead>\n",
       "  <tbody>\n",
       "    <tr>\n",
       "      <th>서준</th>\n",
       "      <td>18</td>\n",
       "      <td>남</td>\n",
       "      <td>보성중</td>\n",
       "    </tr>\n",
       "    <tr>\n",
       "      <th>도연</th>\n",
       "      <td>17</td>\n",
       "      <td>여</td>\n",
       "      <td>성암중</td>\n",
       "    </tr>\n",
       "  </tbody>\n",
       "</table>\n",
       "</div>"
      ],
      "text/plain": [
       "    나이 성별   학교\n",
       "서준  18  남  보성중\n",
       "도연  17  여  성암중"
      ]
     },
     "execution_count": 115,
     "metadata": {},
     "output_type": "execute_result"
    }
   ],
   "source": [
    "df"
   ]
  },
  {
   "cell_type": "code",
   "execution_count": 117,
   "id": "b0ffe2ee-aa29-4ad9-8fd5-03213fb8a622",
   "metadata": {},
   "outputs": [
    {
     "data": {
      "text/html": [
       "<div>\n",
       "<style scoped>\n",
       "    .dataframe tbody tr th:only-of-type {\n",
       "        vertical-align: middle;\n",
       "    }\n",
       "\n",
       "    .dataframe tbody tr th {\n",
       "        vertical-align: top;\n",
       "    }\n",
       "\n",
       "    .dataframe thead th {\n",
       "        text-align: right;\n",
       "    }\n",
       "</style>\n",
       "<table border=\"1\" class=\"dataframe\">\n",
       "  <thead>\n",
       "    <tr style=\"text-align: right;\">\n",
       "      <th></th>\n",
       "      <th>나이</th>\n",
       "      <th>성별</th>\n",
       "      <th>학교</th>\n",
       "    </tr>\n",
       "  </thead>\n",
       "  <tbody>\n",
       "    <tr>\n",
       "      <th>서준</th>\n",
       "      <td>18</td>\n",
       "      <td>남</td>\n",
       "      <td>보성중</td>\n",
       "    </tr>\n",
       "    <tr>\n",
       "      <th>도연</th>\n",
       "      <td>17</td>\n",
       "      <td>여</td>\n",
       "      <td>성암중</td>\n",
       "    </tr>\n",
       "    <tr>\n",
       "      <th>진석</th>\n",
       "      <td>18</td>\n",
       "      <td>남</td>\n",
       "      <td>신일중</td>\n",
       "    </tr>\n",
       "  </tbody>\n",
       "</table>\n",
       "</div>"
      ],
      "text/plain": [
       "    나이 성별   학교\n",
       "서준  18  남  보성중\n",
       "도연  17  여  성암중\n",
       "진석  18  남  신일중"
      ]
     },
     "execution_count": 117,
     "metadata": {},
     "output_type": "execute_result"
    }
   ],
   "source": [
    "df.loc['진석'] = [18, '남', '신일중']\n",
    "df"
   ]
  },
  {
   "cell_type": "code",
   "execution_count": 118,
   "id": "06b03626-665d-40e0-a82a-6f9c5773e0c6",
   "metadata": {},
   "outputs": [
    {
     "data": {
      "text/html": [
       "<div>\n",
       "<style scoped>\n",
       "    .dataframe tbody tr th:only-of-type {\n",
       "        vertical-align: middle;\n",
       "    }\n",
       "\n",
       "    .dataframe tbody tr th {\n",
       "        vertical-align: top;\n",
       "    }\n",
       "\n",
       "    .dataframe thead th {\n",
       "        text-align: right;\n",
       "    }\n",
       "</style>\n",
       "<table border=\"1\" class=\"dataframe\">\n",
       "  <thead>\n",
       "    <tr style=\"text-align: right;\">\n",
       "      <th></th>\n",
       "      <th>나이</th>\n",
       "      <th>성별</th>\n",
       "      <th>학교</th>\n",
       "    </tr>\n",
       "  </thead>\n",
       "  <tbody>\n",
       "    <tr>\n",
       "      <th>서준</th>\n",
       "      <td>18</td>\n",
       "      <td>남</td>\n",
       "      <td>보성중</td>\n",
       "    </tr>\n",
       "    <tr>\n",
       "      <th>도연</th>\n",
       "      <td>17</td>\n",
       "      <td>여</td>\n",
       "      <td>성암중</td>\n",
       "    </tr>\n",
       "    <tr>\n",
       "      <th>진석</th>\n",
       "      <td>18</td>\n",
       "      <td>남</td>\n",
       "      <td>신일중</td>\n",
       "    </tr>\n",
       "    <tr>\n",
       "      <th>진서</th>\n",
       "      <td>18</td>\n",
       "      <td>남</td>\n",
       "      <td>신일중</td>\n",
       "    </tr>\n",
       "  </tbody>\n",
       "</table>\n",
       "</div>"
      ],
      "text/plain": [
       "    나이 성별   학교\n",
       "서준  18  남  보성중\n",
       "도연  17  여  성암중\n",
       "진석  18  남  신일중\n",
       "진서  18  남  신일중"
      ]
     },
     "execution_count": 118,
     "metadata": {},
     "output_type": "execute_result"
    }
   ],
   "source": [
    "df.loc['진서'] = [18, '남', '신일중']\n",
    "df"
   ]
  },
  {
   "cell_type": "code",
   "execution_count": 119,
   "id": "ca4d5a80-ec62-454a-850d-e417f7f593f1",
   "metadata": {},
   "outputs": [
    {
     "data": {
      "text/html": [
       "<div>\n",
       "<style scoped>\n",
       "    .dataframe tbody tr th:only-of-type {\n",
       "        vertical-align: middle;\n",
       "    }\n",
       "\n",
       "    .dataframe tbody tr th {\n",
       "        vertical-align: top;\n",
       "    }\n",
       "\n",
       "    .dataframe thead th {\n",
       "        text-align: right;\n",
       "    }\n",
       "</style>\n",
       "<table border=\"1\" class=\"dataframe\">\n",
       "  <thead>\n",
       "    <tr style=\"text-align: right;\">\n",
       "      <th></th>\n",
       "      <th>나이</th>\n",
       "      <th>성별</th>\n",
       "      <th>학교</th>\n",
       "    </tr>\n",
       "  </thead>\n",
       "  <tbody>\n",
       "    <tr>\n",
       "      <th>서준</th>\n",
       "      <td>18</td>\n",
       "      <td>남</td>\n",
       "      <td>보성중</td>\n",
       "    </tr>\n",
       "    <tr>\n",
       "      <th>도연</th>\n",
       "      <td>17</td>\n",
       "      <td>여</td>\n",
       "      <td>성암중</td>\n",
       "    </tr>\n",
       "    <tr>\n",
       "      <th>진석</th>\n",
       "      <td>18</td>\n",
       "      <td>남</td>\n",
       "      <td>신일중</td>\n",
       "    </tr>\n",
       "  </tbody>\n",
       "</table>\n",
       "</div>"
      ],
      "text/plain": [
       "    나이 성별   학교\n",
       "서준  18  남  보성중\n",
       "도연  17  여  성암중\n",
       "진석  18  남  신일중"
      ]
     },
     "execution_count": 119,
     "metadata": {},
     "output_type": "execute_result"
    }
   ],
   "source": [
    "df.drop('진서',inplace = True) #drop 함수와 True를 해주면 해당 값을 삭제한다\n",
    "df"
   ]
  },
  {
   "cell_type": "code",
   "execution_count": 120,
   "id": "60fb8481-bb8f-445f-b23d-8c223c727749",
   "metadata": {},
   "outputs": [
    {
     "data": {
      "text/html": [
       "<div>\n",
       "<style scoped>\n",
       "    .dataframe tbody tr th:only-of-type {\n",
       "        vertical-align: middle;\n",
       "    }\n",
       "\n",
       "    .dataframe tbody tr th {\n",
       "        vertical-align: top;\n",
       "    }\n",
       "\n",
       "    .dataframe thead th {\n",
       "        text-align: right;\n",
       "    }\n",
       "</style>\n",
       "<table border=\"1\" class=\"dataframe\">\n",
       "  <thead>\n",
       "    <tr style=\"text-align: right;\">\n",
       "      <th></th>\n",
       "      <th>나이</th>\n",
       "      <th>성별</th>\n",
       "      <th>학교</th>\n",
       "    </tr>\n",
       "  </thead>\n",
       "  <tbody>\n",
       "    <tr>\n",
       "      <th>서준</th>\n",
       "      <td>18</td>\n",
       "      <td>남</td>\n",
       "      <td>보성중</td>\n",
       "    </tr>\n",
       "    <tr>\n",
       "      <th>도연</th>\n",
       "      <td>17</td>\n",
       "      <td>여</td>\n",
       "      <td>성암중</td>\n",
       "    </tr>\n",
       "    <tr>\n",
       "      <th>진석</th>\n",
       "      <td>18</td>\n",
       "      <td>남</td>\n",
       "      <td>신일중</td>\n",
       "    </tr>\n",
       "    <tr>\n",
       "      <th>선희</th>\n",
       "      <td>14</td>\n",
       "      <td>여</td>\n",
       "      <td>풍문중</td>\n",
       "    </tr>\n",
       "  </tbody>\n",
       "</table>\n",
       "</div>"
      ],
      "text/plain": [
       "    나이 성별   학교\n",
       "서준  18  남  보성중\n",
       "도연  17  여  성암중\n",
       "진석  18  남  신일중\n",
       "선희  14  여  풍문중"
      ]
     },
     "execution_count": 120,
     "metadata": {},
     "output_type": "execute_result"
    }
   ],
   "source": [
    "df.loc['선희'] = [14, '여', '풍문중']\n",
    "df"
   ]
  },
  {
   "cell_type": "code",
   "execution_count": 121,
   "id": "4ac53076-9747-4361-b1f2-52c908e97242",
   "metadata": {},
   "outputs": [
    {
     "data": {
      "text/html": [
       "<div>\n",
       "<style scoped>\n",
       "    .dataframe tbody tr th:only-of-type {\n",
       "        vertical-align: middle;\n",
       "    }\n",
       "\n",
       "    .dataframe tbody tr th {\n",
       "        vertical-align: top;\n",
       "    }\n",
       "\n",
       "    .dataframe thead th {\n",
       "        text-align: right;\n",
       "    }\n",
       "</style>\n",
       "<table border=\"1\" class=\"dataframe\">\n",
       "  <thead>\n",
       "    <tr style=\"text-align: right;\">\n",
       "      <th></th>\n",
       "      <th>나이</th>\n",
       "      <th>성별</th>\n",
       "      <th>학교</th>\n",
       "      <th>키</th>\n",
       "    </tr>\n",
       "  </thead>\n",
       "  <tbody>\n",
       "    <tr>\n",
       "      <th>서준</th>\n",
       "      <td>18</td>\n",
       "      <td>남</td>\n",
       "      <td>보성중</td>\n",
       "      <td>175</td>\n",
       "    </tr>\n",
       "    <tr>\n",
       "      <th>도연</th>\n",
       "      <td>17</td>\n",
       "      <td>여</td>\n",
       "      <td>성암중</td>\n",
       "      <td>149</td>\n",
       "    </tr>\n",
       "    <tr>\n",
       "      <th>진석</th>\n",
       "      <td>18</td>\n",
       "      <td>남</td>\n",
       "      <td>신일중</td>\n",
       "      <td>180</td>\n",
       "    </tr>\n",
       "    <tr>\n",
       "      <th>선희</th>\n",
       "      <td>14</td>\n",
       "      <td>여</td>\n",
       "      <td>풍문중</td>\n",
       "      <td>169</td>\n",
       "    </tr>\n",
       "  </tbody>\n",
       "</table>\n",
       "</div>"
      ],
      "text/plain": [
       "    나이 성별   학교    키\n",
       "서준  18  남  보성중  175\n",
       "도연  17  여  성암중  149\n",
       "진석  18  남  신일중  180\n",
       "선희  14  여  풍문중  169"
      ]
     },
     "execution_count": 121,
     "metadata": {},
     "output_type": "execute_result"
    }
   ],
   "source": [
    "df['키'] = [175, 149, 180, 169] #키에 대한 각각의 열 값이 추가된다\n",
    "df"
   ]
  },
  {
   "cell_type": "code",
   "execution_count": 122,
   "id": "2f98c438-2e74-4db4-887a-b6c343852759",
   "metadata": {},
   "outputs": [
    {
     "data": {
      "text/html": [
       "<div>\n",
       "<style scoped>\n",
       "    .dataframe tbody tr th:only-of-type {\n",
       "        vertical-align: middle;\n",
       "    }\n",
       "\n",
       "    .dataframe tbody tr th {\n",
       "        vertical-align: top;\n",
       "    }\n",
       "\n",
       "    .dataframe thead th {\n",
       "        text-align: right;\n",
       "    }\n",
       "</style>\n",
       "<table border=\"1\" class=\"dataframe\">\n",
       "  <thead>\n",
       "    <tr style=\"text-align: right;\">\n",
       "      <th></th>\n",
       "      <th>나이</th>\n",
       "      <th>성별</th>\n",
       "      <th>학교</th>\n",
       "      <th>키</th>\n",
       "      <th>학년</th>\n",
       "    </tr>\n",
       "  </thead>\n",
       "  <tbody>\n",
       "    <tr>\n",
       "      <th>서준</th>\n",
       "      <td>18</td>\n",
       "      <td>남</td>\n",
       "      <td>보성중</td>\n",
       "      <td>175</td>\n",
       "      <td>3</td>\n",
       "    </tr>\n",
       "    <tr>\n",
       "      <th>도연</th>\n",
       "      <td>17</td>\n",
       "      <td>여</td>\n",
       "      <td>성암중</td>\n",
       "      <td>149</td>\n",
       "      <td>3</td>\n",
       "    </tr>\n",
       "    <tr>\n",
       "      <th>진석</th>\n",
       "      <td>18</td>\n",
       "      <td>남</td>\n",
       "      <td>신일중</td>\n",
       "      <td>180</td>\n",
       "      <td>3</td>\n",
       "    </tr>\n",
       "    <tr>\n",
       "      <th>선희</th>\n",
       "      <td>14</td>\n",
       "      <td>여</td>\n",
       "      <td>풍문중</td>\n",
       "      <td>169</td>\n",
       "      <td>3</td>\n",
       "    </tr>\n",
       "  </tbody>\n",
       "</table>\n",
       "</div>"
      ],
      "text/plain": [
       "    나이 성별   학교    키  학년\n",
       "서준  18  남  보성중  175   3\n",
       "도연  17  여  성암중  149   3\n",
       "진석  18  남  신일중  180   3\n",
       "선희  14  여  풍문중  169   3"
      ]
     },
     "execution_count": 122,
     "metadata": {},
     "output_type": "execute_result"
    }
   ],
   "source": [
    "df['학년'] = 3 # 전체 열에 대해서 학년에 대한 열값이 추가된다\n",
    "df"
   ]
  },
  {
   "cell_type": "code",
   "execution_count": null,
   "id": "b320b654-341c-4bce-80d3-8d8959d1a01d",
   "metadata": {},
   "outputs": [],
   "source": []
  }
 ],
 "metadata": {
  "kernelspec": {
   "display_name": "Python 3 (ipykernel)",
   "language": "python",
   "name": "python3"
  },
  "language_info": {
   "codemirror_mode": {
    "name": "ipython",
    "version": 3
   },
   "file_extension": ".py",
   "mimetype": "text/x-python",
   "name": "python",
   "nbconvert_exporter": "python",
   "pygments_lexer": "ipython3",
   "version": "3.7.0"
  }
 },
 "nbformat": 4,
 "nbformat_minor": 5
}
